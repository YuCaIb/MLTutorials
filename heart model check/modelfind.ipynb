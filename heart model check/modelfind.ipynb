{
  "nbformat": 4,
  "nbformat_minor": 0,
  "metadata": {
    "colab": {
      "provenance": []
    },
    "kernelspec": {
      "name": "python3",
      "display_name": "Python 3"
    },
    "language_info": {
      "name": "python"
    }
  },
  "cells": [
    {
      "cell_type": "markdown",
      "source": [],
      "metadata": {
        "id": "T5vK_0zPnHKt"
      }
    },
    {
      "cell_type": "markdown",
      "source": [
        "Yusuf Can İbişoğlu\n",
        "195050021\n",
        "Toros üniversitesi\n",
        "Yazılım Geliştirme ve Proje yönetimi"
      ],
      "metadata": {
        "id": "_snV7b6inKP1"
      }
    },
    {
      "cell_type": "code",
      "execution_count": 1,
      "metadata": {
        "id": "XLKCAiMMiQSR"
      },
      "outputs": [],
      "source": [
        "import numpy as np\n",
        "import pandas as pd"
      ]
    },
    {
      "cell_type": "markdown",
      "source": [
        "Loading data set"
      ],
      "metadata": {
        "id": "VMbna_ZamQxo"
      }
    },
    {
      "cell_type": "code",
      "source": [
        "df= pd.read_csv('/content/data/dataset_heart.csv')\n",
        "df"
      ],
      "metadata": {
        "colab": {
          "base_uri": "https://localhost:8080/",
          "height": 485
        },
        "id": "j_3AKZS1iS9C",
        "outputId": "940e0adf-6ef9-4586-af7d-43c5b1fd07d7"
      },
      "execution_count": 18,
      "outputs": [
        {
          "output_type": "execute_result",
          "data": {
            "text/plain": [
              "     age  sex   chest pain type  resting blood pressure  serum cholestoral  \\\n",
              "0     70     1                4                     130                322   \n",
              "1     67     0                3                     115                564   \n",
              "2     57     1                2                     124                261   \n",
              "3     64     1                4                     128                263   \n",
              "4     74     0                2                     120                269   \n",
              "..   ...   ...              ...                     ...                ...   \n",
              "265   52     1                3                     172                199   \n",
              "266   44     1                2                     120                263   \n",
              "267   56     0                2                     140                294   \n",
              "268   57     1                4                     140                192   \n",
              "269   67     1                4                     160                286   \n",
              "\n",
              "     fasting blood sugar  resting electrocardiographic results  \\\n",
              "0                      0                                     2   \n",
              "1                      0                                     2   \n",
              "2                      0                                     0   \n",
              "3                      0                                     0   \n",
              "4                      0                                     2   \n",
              "..                   ...                                   ...   \n",
              "265                    1                                     0   \n",
              "266                    0                                     0   \n",
              "267                    0                                     2   \n",
              "268                    0                                     0   \n",
              "269                    0                                     2   \n",
              "\n",
              "     max heart rate  exercise induced angina  oldpeak  ST segment  \\\n",
              "0               109                        0      2.4           2   \n",
              "1               160                        0      1.6           2   \n",
              "2               141                        0      0.3           1   \n",
              "3               105                        1      0.2           2   \n",
              "4               121                        1      0.2           1   \n",
              "..              ...                      ...      ...         ...   \n",
              "265             162                        0      0.5           1   \n",
              "266             173                        0      0.0           1   \n",
              "267             153                        0      1.3           2   \n",
              "268             148                        0      0.4           2   \n",
              "269             108                        1      1.5           2   \n",
              "\n",
              "     major vessels  thal  heart disease  \n",
              "0                3     3              2  \n",
              "1                0     7              1  \n",
              "2                0     7              2  \n",
              "3                1     7              1  \n",
              "4                1     3              1  \n",
              "..             ...   ...            ...  \n",
              "265              0     7              1  \n",
              "266              0     7              1  \n",
              "267              0     3              1  \n",
              "268              0     6              1  \n",
              "269              3     3              2  \n",
              "\n",
              "[270 rows x 14 columns]"
            ],
            "text/html": [
              "\n",
              "  <div id=\"df-d729c771-e29b-4f68-a501-8e077c533450\">\n",
              "    <div class=\"colab-df-container\">\n",
              "      <div>\n",
              "<style scoped>\n",
              "    .dataframe tbody tr th:only-of-type {\n",
              "        vertical-align: middle;\n",
              "    }\n",
              "\n",
              "    .dataframe tbody tr th {\n",
              "        vertical-align: top;\n",
              "    }\n",
              "\n",
              "    .dataframe thead th {\n",
              "        text-align: right;\n",
              "    }\n",
              "</style>\n",
              "<table border=\"1\" class=\"dataframe\">\n",
              "  <thead>\n",
              "    <tr style=\"text-align: right;\">\n",
              "      <th></th>\n",
              "      <th>age</th>\n",
              "      <th>sex</th>\n",
              "      <th>chest pain type</th>\n",
              "      <th>resting blood pressure</th>\n",
              "      <th>serum cholestoral</th>\n",
              "      <th>fasting blood sugar</th>\n",
              "      <th>resting electrocardiographic results</th>\n",
              "      <th>max heart rate</th>\n",
              "      <th>exercise induced angina</th>\n",
              "      <th>oldpeak</th>\n",
              "      <th>ST segment</th>\n",
              "      <th>major vessels</th>\n",
              "      <th>thal</th>\n",
              "      <th>heart disease</th>\n",
              "    </tr>\n",
              "  </thead>\n",
              "  <tbody>\n",
              "    <tr>\n",
              "      <th>0</th>\n",
              "      <td>70</td>\n",
              "      <td>1</td>\n",
              "      <td>4</td>\n",
              "      <td>130</td>\n",
              "      <td>322</td>\n",
              "      <td>0</td>\n",
              "      <td>2</td>\n",
              "      <td>109</td>\n",
              "      <td>0</td>\n",
              "      <td>2.4</td>\n",
              "      <td>2</td>\n",
              "      <td>3</td>\n",
              "      <td>3</td>\n",
              "      <td>2</td>\n",
              "    </tr>\n",
              "    <tr>\n",
              "      <th>1</th>\n",
              "      <td>67</td>\n",
              "      <td>0</td>\n",
              "      <td>3</td>\n",
              "      <td>115</td>\n",
              "      <td>564</td>\n",
              "      <td>0</td>\n",
              "      <td>2</td>\n",
              "      <td>160</td>\n",
              "      <td>0</td>\n",
              "      <td>1.6</td>\n",
              "      <td>2</td>\n",
              "      <td>0</td>\n",
              "      <td>7</td>\n",
              "      <td>1</td>\n",
              "    </tr>\n",
              "    <tr>\n",
              "      <th>2</th>\n",
              "      <td>57</td>\n",
              "      <td>1</td>\n",
              "      <td>2</td>\n",
              "      <td>124</td>\n",
              "      <td>261</td>\n",
              "      <td>0</td>\n",
              "      <td>0</td>\n",
              "      <td>141</td>\n",
              "      <td>0</td>\n",
              "      <td>0.3</td>\n",
              "      <td>1</td>\n",
              "      <td>0</td>\n",
              "      <td>7</td>\n",
              "      <td>2</td>\n",
              "    </tr>\n",
              "    <tr>\n",
              "      <th>3</th>\n",
              "      <td>64</td>\n",
              "      <td>1</td>\n",
              "      <td>4</td>\n",
              "      <td>128</td>\n",
              "      <td>263</td>\n",
              "      <td>0</td>\n",
              "      <td>0</td>\n",
              "      <td>105</td>\n",
              "      <td>1</td>\n",
              "      <td>0.2</td>\n",
              "      <td>2</td>\n",
              "      <td>1</td>\n",
              "      <td>7</td>\n",
              "      <td>1</td>\n",
              "    </tr>\n",
              "    <tr>\n",
              "      <th>4</th>\n",
              "      <td>74</td>\n",
              "      <td>0</td>\n",
              "      <td>2</td>\n",
              "      <td>120</td>\n",
              "      <td>269</td>\n",
              "      <td>0</td>\n",
              "      <td>2</td>\n",
              "      <td>121</td>\n",
              "      <td>1</td>\n",
              "      <td>0.2</td>\n",
              "      <td>1</td>\n",
              "      <td>1</td>\n",
              "      <td>3</td>\n",
              "      <td>1</td>\n",
              "    </tr>\n",
              "    <tr>\n",
              "      <th>...</th>\n",
              "      <td>...</td>\n",
              "      <td>...</td>\n",
              "      <td>...</td>\n",
              "      <td>...</td>\n",
              "      <td>...</td>\n",
              "      <td>...</td>\n",
              "      <td>...</td>\n",
              "      <td>...</td>\n",
              "      <td>...</td>\n",
              "      <td>...</td>\n",
              "      <td>...</td>\n",
              "      <td>...</td>\n",
              "      <td>...</td>\n",
              "      <td>...</td>\n",
              "    </tr>\n",
              "    <tr>\n",
              "      <th>265</th>\n",
              "      <td>52</td>\n",
              "      <td>1</td>\n",
              "      <td>3</td>\n",
              "      <td>172</td>\n",
              "      <td>199</td>\n",
              "      <td>1</td>\n",
              "      <td>0</td>\n",
              "      <td>162</td>\n",
              "      <td>0</td>\n",
              "      <td>0.5</td>\n",
              "      <td>1</td>\n",
              "      <td>0</td>\n",
              "      <td>7</td>\n",
              "      <td>1</td>\n",
              "    </tr>\n",
              "    <tr>\n",
              "      <th>266</th>\n",
              "      <td>44</td>\n",
              "      <td>1</td>\n",
              "      <td>2</td>\n",
              "      <td>120</td>\n",
              "      <td>263</td>\n",
              "      <td>0</td>\n",
              "      <td>0</td>\n",
              "      <td>173</td>\n",
              "      <td>0</td>\n",
              "      <td>0.0</td>\n",
              "      <td>1</td>\n",
              "      <td>0</td>\n",
              "      <td>7</td>\n",
              "      <td>1</td>\n",
              "    </tr>\n",
              "    <tr>\n",
              "      <th>267</th>\n",
              "      <td>56</td>\n",
              "      <td>0</td>\n",
              "      <td>2</td>\n",
              "      <td>140</td>\n",
              "      <td>294</td>\n",
              "      <td>0</td>\n",
              "      <td>2</td>\n",
              "      <td>153</td>\n",
              "      <td>0</td>\n",
              "      <td>1.3</td>\n",
              "      <td>2</td>\n",
              "      <td>0</td>\n",
              "      <td>3</td>\n",
              "      <td>1</td>\n",
              "    </tr>\n",
              "    <tr>\n",
              "      <th>268</th>\n",
              "      <td>57</td>\n",
              "      <td>1</td>\n",
              "      <td>4</td>\n",
              "      <td>140</td>\n",
              "      <td>192</td>\n",
              "      <td>0</td>\n",
              "      <td>0</td>\n",
              "      <td>148</td>\n",
              "      <td>0</td>\n",
              "      <td>0.4</td>\n",
              "      <td>2</td>\n",
              "      <td>0</td>\n",
              "      <td>6</td>\n",
              "      <td>1</td>\n",
              "    </tr>\n",
              "    <tr>\n",
              "      <th>269</th>\n",
              "      <td>67</td>\n",
              "      <td>1</td>\n",
              "      <td>4</td>\n",
              "      <td>160</td>\n",
              "      <td>286</td>\n",
              "      <td>0</td>\n",
              "      <td>2</td>\n",
              "      <td>108</td>\n",
              "      <td>1</td>\n",
              "      <td>1.5</td>\n",
              "      <td>2</td>\n",
              "      <td>3</td>\n",
              "      <td>3</td>\n",
              "      <td>2</td>\n",
              "    </tr>\n",
              "  </tbody>\n",
              "</table>\n",
              "<p>270 rows × 14 columns</p>\n",
              "</div>\n",
              "      <button class=\"colab-df-convert\" onclick=\"convertToInteractive('df-d729c771-e29b-4f68-a501-8e077c533450')\"\n",
              "              title=\"Convert this dataframe to an interactive table.\"\n",
              "              style=\"display:none;\">\n",
              "        \n",
              "  <svg xmlns=\"http://www.w3.org/2000/svg\" height=\"24px\"viewBox=\"0 0 24 24\"\n",
              "       width=\"24px\">\n",
              "    <path d=\"M0 0h24v24H0V0z\" fill=\"none\"/>\n",
              "    <path d=\"M18.56 5.44l.94 2.06.94-2.06 2.06-.94-2.06-.94-.94-2.06-.94 2.06-2.06.94zm-11 1L8.5 8.5l.94-2.06 2.06-.94-2.06-.94L8.5 2.5l-.94 2.06-2.06.94zm10 10l.94 2.06.94-2.06 2.06-.94-2.06-.94-.94-2.06-.94 2.06-2.06.94z\"/><path d=\"M17.41 7.96l-1.37-1.37c-.4-.4-.92-.59-1.43-.59-.52 0-1.04.2-1.43.59L10.3 9.45l-7.72 7.72c-.78.78-.78 2.05 0 2.83L4 21.41c.39.39.9.59 1.41.59.51 0 1.02-.2 1.41-.59l7.78-7.78 2.81-2.81c.8-.78.8-2.07 0-2.86zM5.41 20L4 18.59l7.72-7.72 1.47 1.35L5.41 20z\"/>\n",
              "  </svg>\n",
              "      </button>\n",
              "      \n",
              "  <style>\n",
              "    .colab-df-container {\n",
              "      display:flex;\n",
              "      flex-wrap:wrap;\n",
              "      gap: 12px;\n",
              "    }\n",
              "\n",
              "    .colab-df-convert {\n",
              "      background-color: #E8F0FE;\n",
              "      border: none;\n",
              "      border-radius: 50%;\n",
              "      cursor: pointer;\n",
              "      display: none;\n",
              "      fill: #1967D2;\n",
              "      height: 32px;\n",
              "      padding: 0 0 0 0;\n",
              "      width: 32px;\n",
              "    }\n",
              "\n",
              "    .colab-df-convert:hover {\n",
              "      background-color: #E2EBFA;\n",
              "      box-shadow: 0px 1px 2px rgba(60, 64, 67, 0.3), 0px 1px 3px 1px rgba(60, 64, 67, 0.15);\n",
              "      fill: #174EA6;\n",
              "    }\n",
              "\n",
              "    [theme=dark] .colab-df-convert {\n",
              "      background-color: #3B4455;\n",
              "      fill: #D2E3FC;\n",
              "    }\n",
              "\n",
              "    [theme=dark] .colab-df-convert:hover {\n",
              "      background-color: #434B5C;\n",
              "      box-shadow: 0px 1px 3px 1px rgba(0, 0, 0, 0.15);\n",
              "      filter: drop-shadow(0px 1px 2px rgba(0, 0, 0, 0.3));\n",
              "      fill: #FFFFFF;\n",
              "    }\n",
              "  </style>\n",
              "\n",
              "      <script>\n",
              "        const buttonEl =\n",
              "          document.querySelector('#df-d729c771-e29b-4f68-a501-8e077c533450 button.colab-df-convert');\n",
              "        buttonEl.style.display =\n",
              "          google.colab.kernel.accessAllowed ? 'block' : 'none';\n",
              "\n",
              "        async function convertToInteractive(key) {\n",
              "          const element = document.querySelector('#df-d729c771-e29b-4f68-a501-8e077c533450');\n",
              "          const dataTable =\n",
              "            await google.colab.kernel.invokeFunction('convertToInteractive',\n",
              "                                                     [key], {});\n",
              "          if (!dataTable) return;\n",
              "\n",
              "          const docLinkHtml = 'Like what you see? Visit the ' +\n",
              "            '<a target=\"_blank\" href=https://colab.research.google.com/notebooks/data_table.ipynb>data table notebook</a>'\n",
              "            + ' to learn more about interactive tables.';\n",
              "          element.innerHTML = '';\n",
              "          dataTable['output_type'] = 'display_data';\n",
              "          await google.colab.output.renderOutput(dataTable, element);\n",
              "          const docLink = document.createElement('div');\n",
              "          docLink.innerHTML = docLinkHtml;\n",
              "          element.appendChild(docLink);\n",
              "        }\n",
              "      </script>\n",
              "    </div>\n",
              "  </div>\n",
              "  "
            ]
          },
          "metadata": {},
          "execution_count": 18
        }
      ]
    },
    {
      "cell_type": "markdown",
      "source": [
        "Loading aiming data column"
      ],
      "metadata": {
        "id": "1AQV3sJbmThX"
      }
    },
    {
      "cell_type": "code",
      "source": [
        "df_heart= df.pop('heart disease')\n"
      ],
      "metadata": {
        "id": "DHtc85Ypix_7"
      },
      "execution_count": 19,
      "outputs": []
    },
    {
      "cell_type": "code",
      "source": [
        "df_heart"
      ],
      "metadata": {
        "colab": {
          "base_uri": "https://localhost:8080/"
        },
        "id": "wRcot2RajavL",
        "outputId": "3fd3adf0-ba05-42e9-dfd4-8e4d904637bd"
      },
      "execution_count": 20,
      "outputs": [
        {
          "output_type": "execute_result",
          "data": {
            "text/plain": [
              "0      2\n",
              "1      1\n",
              "2      2\n",
              "3      1\n",
              "4      1\n",
              "      ..\n",
              "265    1\n",
              "266    1\n",
              "267    1\n",
              "268    1\n",
              "269    2\n",
              "Name: heart disease, Length: 270, dtype: int64"
            ]
          },
          "metadata": {},
          "execution_count": 20
        }
      ]
    },
    {
      "cell_type": "code",
      "source": [
        "from sklearn.model_selection import train_test_split\n",
        "df_train, df_test, df_heart_train, df_heart_test= train_test_split(df, df_heart, random_state=1)"
      ],
      "metadata": {
        "id": "9kJbPJdIjwxC"
      },
      "execution_count": 21,
      "outputs": []
    },
    {
      "cell_type": "code",
      "source": [
        "df_heart_test"
      ],
      "metadata": {
        "colab": {
          "base_uri": "https://localhost:8080/"
        },
        "id": "Wno0KBJ8j9DQ",
        "outputId": "ffa747e2-5cfa-41c6-c360-f3c362f642d2"
      },
      "execution_count": 22,
      "outputs": [
        {
          "output_type": "execute_result",
          "data": {
            "text/plain": [
              "12     1\n",
              "221    2\n",
              "51     1\n",
              "147    2\n",
              "145    2\n",
              "      ..\n",
              "262    2\n",
              "122    2\n",
              "189    2\n",
              "33     2\n",
              "108    2\n",
              "Name: heart disease, Length: 68, dtype: int64"
            ]
          },
          "metadata": {},
          "execution_count": 22
        }
      ]
    },
    {
      "cell_type": "code",
      "source": [
        "### First Model\n",
        "from tensorflow.keras.models import Sequential\n",
        "from tensorflow.keras.layers import Dense\n",
        "\n",
        "model= Sequential()\n",
        "model.add(Dense(64, input_dim=13, activation='relu'))\n",
        "model.add(Dense(32, activation='relu'))\n",
        "model.add(Dense(16, activation='relu'))\n",
        "model.add(Dense(1, activation='sigmoid'))\n",
        "\n",
        "model.compile(loss='binary_crossentropy', optimizer='adam', metrics=['accuracy'])\n",
        "model.fit(df_train, df_heart_train, epochs=50)"
      ],
      "metadata": {
        "colab": {
          "base_uri": "https://localhost:8080/"
        },
        "id": "Hlu1eNTmj_TG",
        "outputId": "d11efc92-c725-496c-b14e-4d5f710d04e5"
      },
      "execution_count": 24,
      "outputs": [
        {
          "output_type": "stream",
          "name": "stdout",
          "text": [
            "Epoch 1/50\n",
            "7/7 [==============================] - 1s 4ms/step - loss: -47.8314 - accuracy: 0.5644\n",
            "Epoch 2/50\n",
            "7/7 [==============================] - 0s 3ms/step - loss: -85.2575 - accuracy: 0.5644\n",
            "Epoch 3/50\n",
            "7/7 [==============================] - 0s 3ms/step - loss: -127.4153 - accuracy: 0.5644\n",
            "Epoch 4/50\n",
            "7/7 [==============================] - 0s 3ms/step - loss: -176.4872 - accuracy: 0.5644\n",
            "Epoch 5/50\n",
            "7/7 [==============================] - 0s 3ms/step - loss: -238.6360 - accuracy: 0.5644\n",
            "Epoch 6/50\n",
            "7/7 [==============================] - 0s 3ms/step - loss: -321.2563 - accuracy: 0.5644\n",
            "Epoch 7/50\n",
            "7/7 [==============================] - 0s 3ms/step - loss: -429.6889 - accuracy: 0.5644\n",
            "Epoch 8/50\n",
            "7/7 [==============================] - 0s 3ms/step - loss: -570.6694 - accuracy: 0.5644\n",
            "Epoch 9/50\n",
            "7/7 [==============================] - 0s 3ms/step - loss: -748.3703 - accuracy: 0.5644\n",
            "Epoch 10/50\n",
            "7/7 [==============================] - 0s 3ms/step - loss: -1005.8655 - accuracy: 0.5644\n",
            "Epoch 11/50\n",
            "7/7 [==============================] - 0s 3ms/step - loss: -1307.1603 - accuracy: 0.5644\n",
            "Epoch 12/50\n",
            "7/7 [==============================] - 0s 3ms/step - loss: -1693.7655 - accuracy: 0.5644\n",
            "Epoch 13/50\n",
            "7/7 [==============================] - 0s 3ms/step - loss: -2219.7363 - accuracy: 0.5644\n",
            "Epoch 14/50\n",
            "7/7 [==============================] - 0s 3ms/step - loss: -2834.2632 - accuracy: 0.5644\n",
            "Epoch 15/50\n",
            "7/7 [==============================] - 0s 3ms/step - loss: -3586.0193 - accuracy: 0.5644\n",
            "Epoch 16/50\n",
            "7/7 [==============================] - 0s 3ms/step - loss: -4534.2681 - accuracy: 0.5644\n",
            "Epoch 17/50\n",
            "7/7 [==============================] - 0s 3ms/step - loss: -5690.7446 - accuracy: 0.5644\n",
            "Epoch 18/50\n",
            "7/7 [==============================] - 0s 3ms/step - loss: -7098.6201 - accuracy: 0.5644\n",
            "Epoch 19/50\n",
            "7/7 [==============================] - 0s 3ms/step - loss: -8755.0547 - accuracy: 0.5644\n",
            "Epoch 20/50\n",
            "7/7 [==============================] - 0s 2ms/step - loss: -10755.9355 - accuracy: 0.5644\n",
            "Epoch 21/50\n",
            "7/7 [==============================] - 0s 3ms/step - loss: -13011.2969 - accuracy: 0.5644\n",
            "Epoch 22/50\n",
            "7/7 [==============================] - 0s 3ms/step - loss: -15818.5322 - accuracy: 0.5644\n",
            "Epoch 23/50\n",
            "7/7 [==============================] - 0s 3ms/step - loss: -18957.1191 - accuracy: 0.5644\n",
            "Epoch 24/50\n",
            "7/7 [==============================] - 0s 3ms/step - loss: -22597.6777 - accuracy: 0.5644\n",
            "Epoch 25/50\n",
            "7/7 [==============================] - 0s 3ms/step - loss: -26802.7285 - accuracy: 0.5644\n",
            "Epoch 26/50\n",
            "7/7 [==============================] - 0s 3ms/step - loss: -31632.3145 - accuracy: 0.5644\n",
            "Epoch 27/50\n",
            "7/7 [==============================] - 0s 3ms/step - loss: -37039.5586 - accuracy: 0.5644\n",
            "Epoch 28/50\n",
            "7/7 [==============================] - 0s 3ms/step - loss: -43440.7734 - accuracy: 0.5644\n",
            "Epoch 29/50\n",
            "7/7 [==============================] - 0s 2ms/step - loss: -50272.9375 - accuracy: 0.5644\n",
            "Epoch 30/50\n",
            "7/7 [==============================] - 0s 3ms/step - loss: -58061.5039 - accuracy: 0.5644\n",
            "Epoch 31/50\n",
            "7/7 [==============================] - 0s 3ms/step - loss: -66522.4766 - accuracy: 0.5644\n",
            "Epoch 32/50\n",
            "7/7 [==============================] - 0s 2ms/step - loss: -76338.3750 - accuracy: 0.5644\n",
            "Epoch 33/50\n",
            "7/7 [==============================] - 0s 3ms/step - loss: -87279.6172 - accuracy: 0.5644\n",
            "Epoch 34/50\n",
            "7/7 [==============================] - 0s 2ms/step - loss: -98300.1562 - accuracy: 0.5644\n",
            "Epoch 35/50\n",
            "7/7 [==============================] - 0s 2ms/step - loss: -111443.3672 - accuracy: 0.5644\n",
            "Epoch 36/50\n",
            "7/7 [==============================] - 0s 5ms/step - loss: -125717.4062 - accuracy: 0.5644\n",
            "Epoch 37/50\n",
            "7/7 [==============================] - 0s 3ms/step - loss: -141159.9062 - accuracy: 0.5644\n",
            "Epoch 38/50\n",
            "7/7 [==============================] - 0s 3ms/step - loss: -158635.1719 - accuracy: 0.5644\n",
            "Epoch 39/50\n",
            "7/7 [==============================] - 0s 3ms/step - loss: -177379.3594 - accuracy: 0.5644\n",
            "Epoch 40/50\n",
            "7/7 [==============================] - 0s 3ms/step - loss: -197906.2500 - accuracy: 0.5644\n",
            "Epoch 41/50\n",
            "7/7 [==============================] - 0s 3ms/step - loss: -220637.7969 - accuracy: 0.5644\n",
            "Epoch 42/50\n",
            "7/7 [==============================] - 0s 3ms/step - loss: -245546.5000 - accuracy: 0.5644\n",
            "Epoch 43/50\n",
            "7/7 [==============================] - 0s 3ms/step - loss: -270916.1250 - accuracy: 0.5644\n",
            "Epoch 44/50\n",
            "7/7 [==============================] - 0s 3ms/step - loss: -300695.4375 - accuracy: 0.5644\n",
            "Epoch 45/50\n",
            "7/7 [==============================] - 0s 3ms/step - loss: -332822.5625 - accuracy: 0.5644\n",
            "Epoch 46/50\n",
            "7/7 [==============================] - 0s 3ms/step - loss: -366316.4688 - accuracy: 0.5644\n",
            "Epoch 47/50\n",
            "7/7 [==============================] - 0s 3ms/step - loss: -402986.2500 - accuracy: 0.5644\n",
            "Epoch 48/50\n",
            "7/7 [==============================] - 0s 3ms/step - loss: -441408.5625 - accuracy: 0.5644\n",
            "Epoch 49/50\n",
            "7/7 [==============================] - 0s 3ms/step - loss: -482665.6250 - accuracy: 0.5644\n",
            "Epoch 50/50\n",
            "7/7 [==============================] - 0s 3ms/step - loss: -527906.6250 - accuracy: 0.5644\n"
          ]
        },
        {
          "output_type": "execute_result",
          "data": {
            "text/plain": [
              "<keras.callbacks.History at 0x7f905458b9d0>"
            ]
          },
          "metadata": {},
          "execution_count": 24
        }
      ]
    },
    {
      "cell_type": "markdown",
      "source": [
        "Minumum Loss and maximum Accruacy !"
      ],
      "metadata": {
        "id": "UhCiG4hhoIoO"
      }
    },
    {
      "cell_type": "markdown",
      "source": [
        "mean absloute error = absolute difference between the actual and calculated values of each observation over the entire array"
      ],
      "metadata": {
        "id": "6weWoHinkfyX"
      }
    },
    {
      "cell_type": "code",
      "source": [
        "## Second model\n",
        "from tensorflow.keras.models import Sequential\n",
        "from tensorflow.keras.layers import Dense, Dropout, Conv1D, MaxPooling1D, LSTM, Flatten\n",
        "\n",
        "model3 = Sequential([\n",
        "\n",
        "    Conv1D(filters=64, kernel_size=3, activation='relu', input_shape=(df_train.shape[1],1)),\n",
        "    MaxPooling1D(pool_size=2),\n",
        "    Dropout(0.2),\n",
        "    LSTM(100, activation='relu'),\n",
        "    Dropout(0.2),\n",
        "    Flatten(),\n",
        "    Dense(64, activation='relu'),\n",
        "    Dense(1, activation='sigmoid')\n",
        "])\n",
        "\n",
        "model3.compile(loss='binary_crossentropy', metrics=['accuracy'], optimizer='adam')\n",
        "model3.fit(df_train, df_heart_train, epochs=50)"
      ],
      "metadata": {
        "colab": {
          "base_uri": "https://localhost:8080/"
        },
        "id": "AkYrNvtfkL3_",
        "outputId": "86447be2-0788-4d53-96db-39c9711ce70b"
      },
      "execution_count": 26,
      "outputs": [
        {
          "output_type": "stream",
          "name": "stdout",
          "text": [
            "Epoch 1/50\n",
            "7/7 [==============================] - 3s 8ms/step - loss: -6.2027 - accuracy: 0.4802\n",
            "Epoch 2/50\n",
            "7/7 [==============================] - 0s 10ms/step - loss: -64.2743 - accuracy: 0.5644\n",
            "Epoch 3/50\n",
            "7/7 [==============================] - 0s 8ms/step - loss: -285.0356 - accuracy: 0.5644\n",
            "Epoch 4/50\n",
            "7/7 [==============================] - 0s 7ms/step - loss: -1294.1754 - accuracy: 0.5644\n",
            "Epoch 5/50\n",
            "7/7 [==============================] - 0s 7ms/step - loss: -6298.3706 - accuracy: 0.5644\n",
            "Epoch 6/50\n",
            "7/7 [==============================] - 0s 7ms/step - loss: -24342.6191 - accuracy: 0.5644\n",
            "Epoch 7/50\n",
            "7/7 [==============================] - 0s 8ms/step - loss: -92288.5938 - accuracy: 0.5644\n",
            "Epoch 8/50\n",
            "7/7 [==============================] - 0s 8ms/step - loss: -312133.0938 - accuracy: 0.5644\n",
            "Epoch 9/50\n",
            "7/7 [==============================] - 0s 7ms/step - loss: -940767.0625 - accuracy: 0.5644\n",
            "Epoch 10/50\n",
            "7/7 [==============================] - 0s 8ms/step - loss: -2819571.0000 - accuracy: 0.5644\n",
            "Epoch 11/50\n",
            "7/7 [==============================] - 0s 7ms/step - loss: -7776515.0000 - accuracy: 0.5644\n",
            "Epoch 12/50\n",
            "7/7 [==============================] - 0s 7ms/step - loss: -19599348.0000 - accuracy: 0.5644\n",
            "Epoch 13/50\n",
            "7/7 [==============================] - 0s 11ms/step - loss: -39189100.0000 - accuracy: 0.5644\n",
            "Epoch 14/50\n",
            "7/7 [==============================] - 0s 8ms/step - loss: -83842192.0000 - accuracy: 0.5644\n",
            "Epoch 15/50\n",
            "7/7 [==============================] - 0s 8ms/step - loss: -179462304.0000 - accuracy: 0.5644\n",
            "Epoch 16/50\n",
            "7/7 [==============================] - 0s 8ms/step - loss: -371340288.0000 - accuracy: 0.5644\n",
            "Epoch 17/50\n",
            "7/7 [==============================] - 0s 8ms/step - loss: -723456128.0000 - accuracy: 0.5644\n",
            "Epoch 18/50\n",
            "7/7 [==============================] - 0s 11ms/step - loss: -1431947520.0000 - accuracy: 0.5644\n",
            "Epoch 19/50\n",
            "7/7 [==============================] - 0s 10ms/step - loss: -2647501312.0000 - accuracy: 0.5644\n",
            "Epoch 20/50\n",
            "7/7 [==============================] - 0s 7ms/step - loss: -4940388352.0000 - accuracy: 0.5644\n",
            "Epoch 21/50\n",
            "7/7 [==============================] - 0s 7ms/step - loss: -8697984000.0000 - accuracy: 0.5644\n",
            "Epoch 22/50\n",
            "7/7 [==============================] - 0s 7ms/step - loss: -15449338880.0000 - accuracy: 0.5644\n",
            "Epoch 23/50\n",
            "7/7 [==============================] - 0s 8ms/step - loss: -25874812928.0000 - accuracy: 0.5644\n",
            "Epoch 24/50\n",
            "7/7 [==============================] - 0s 7ms/step - loss: -42860478464.0000 - accuracy: 0.5644\n",
            "Epoch 25/50\n",
            "7/7 [==============================] - 0s 8ms/step - loss: -70230663168.0000 - accuracy: 0.5644\n",
            "Epoch 26/50\n",
            "7/7 [==============================] - 0s 8ms/step - loss: -110115536896.0000 - accuracy: 0.5644\n",
            "Epoch 27/50\n",
            "7/7 [==============================] - 0s 8ms/step - loss: -172127911936.0000 - accuracy: 0.5644\n",
            "Epoch 28/50\n",
            "7/7 [==============================] - 0s 8ms/step - loss: -255314788352.0000 - accuracy: 0.5644\n",
            "Epoch 29/50\n",
            "7/7 [==============================] - 0s 8ms/step - loss: -384088604672.0000 - accuracy: 0.5644\n",
            "Epoch 30/50\n",
            "7/7 [==============================] - 0s 8ms/step - loss: -575850151936.0000 - accuracy: 0.5644\n",
            "Epoch 31/50\n",
            "7/7 [==============================] - 0s 7ms/step - loss: -840224473088.0000 - accuracy: 0.5644\n",
            "Epoch 32/50\n",
            "7/7 [==============================] - 0s 8ms/step - loss: -1165395886080.0000 - accuracy: 0.5644\n",
            "Epoch 33/50\n",
            "7/7 [==============================] - 0s 8ms/step - loss: -1722593050624.0000 - accuracy: 0.5644\n",
            "Epoch 34/50\n",
            "7/7 [==============================] - 0s 11ms/step - loss: -2398950785024.0000 - accuracy: 0.5644\n",
            "Epoch 35/50\n",
            "7/7 [==============================] - 0s 8ms/step - loss: -3315982925824.0000 - accuracy: 0.5644\n",
            "Epoch 36/50\n",
            "7/7 [==============================] - 0s 8ms/step - loss: -4566535372800.0000 - accuracy: 0.5644\n",
            "Epoch 37/50\n",
            "7/7 [==============================] - 0s 8ms/step - loss: -6131598491648.0000 - accuracy: 0.5644\n",
            "Epoch 38/50\n",
            "7/7 [==============================] - 0s 10ms/step - loss: -8222079451136.0000 - accuracy: 0.5644\n",
            "Epoch 39/50\n",
            "7/7 [==============================] - 0s 8ms/step - loss: -10777307119616.0000 - accuracy: 0.5644\n",
            "Epoch 40/50\n",
            "7/7 [==============================] - 0s 8ms/step - loss: -14186530734080.0000 - accuracy: 0.5644\n",
            "Epoch 41/50\n",
            "7/7 [==============================] - 0s 9ms/step - loss: -18307937730560.0000 - accuracy: 0.5644\n",
            "Epoch 42/50\n",
            "7/7 [==============================] - 0s 8ms/step - loss: -23906127708160.0000 - accuracy: 0.5644\n",
            "Epoch 43/50\n",
            "7/7 [==============================] - 0s 8ms/step - loss: -31386773749760.0000 - accuracy: 0.5644\n",
            "Epoch 44/50\n",
            "7/7 [==============================] - 0s 9ms/step - loss: -40109822967808.0000 - accuracy: 0.5644\n",
            "Epoch 45/50\n",
            "7/7 [==============================] - 0s 8ms/step - loss: -50610636324864.0000 - accuracy: 0.5644\n",
            "Epoch 46/50\n",
            "7/7 [==============================] - 0s 8ms/step - loss: -65250481143808.0000 - accuracy: 0.5644\n",
            "Epoch 47/50\n",
            "7/7 [==============================] - 0s 7ms/step - loss: -81841281302528.0000 - accuracy: 0.5644\n",
            "Epoch 48/50\n",
            "7/7 [==============================] - 0s 8ms/step - loss: -102188974080000.0000 - accuracy: 0.5644\n",
            "Epoch 49/50\n",
            "7/7 [==============================] - 0s 7ms/step - loss: -125539998236672.0000 - accuracy: 0.5644\n",
            "Epoch 50/50\n",
            "7/7 [==============================] - 0s 9ms/step - loss: -153542799130624.0000 - accuracy: 0.5644\n"
          ]
        },
        {
          "output_type": "execute_result",
          "data": {
            "text/plain": [
              "<keras.callbacks.History at 0x7f9047d4d180>"
            ]
          },
          "metadata": {},
          "execution_count": 26
        }
      ]
    },
    {
      "cell_type": "code",
      "source": [
        "### third model\n",
        "\n",
        "from sklearn.tree import DecisionTreeRegressor\n",
        "from sklearn.metrics import mean_absolute_error\n",
        "\n",
        "model2= DecisionTreeRegressor(random_state=1, max_leaf_nodes=25)\n",
        "model2.fit(df_train, df_heart_train)\n",
        "result= model2.predict(df_test)\n",
        "mae= mean_absolute_error(df_heart_test, result)\n",
        "\n",
        "print(mae)"
      ],
      "metadata": {
        "colab": {
          "base_uri": "https://localhost:8080/"
        },
        "id": "oxPi0BTnk66-",
        "outputId": "199d409d-ff15-40b1-9f74-79f8bac86b1c"
      },
      "execution_count": 27,
      "outputs": [
        {
          "output_type": "stream",
          "name": "stdout",
          "text": [
            "0.25243936993575367\n"
          ]
        }
      ]
    },
    {
      "cell_type": "code",
      "source": [
        "result"
      ],
      "metadata": {
        "colab": {
          "base_uri": "https://localhost:8080/"
        },
        "id": "mzoN-ar7lb1U",
        "outputId": "e43bb727-05da-4101-eb28-496553d850cc"
      },
      "execution_count": 28,
      "outputs": [
        {
          "output_type": "execute_result",
          "data": {
            "text/plain": [
              "array([1.01639344, 1.94642857, 1.01639344, 1.94642857, 1.94642857,\n",
              "       1.01639344, 1.875     , 1.        , 1.01639344, 1.94642857,\n",
              "       1.94642857, 1.94642857, 1.94642857, 1.        , 1.        ,\n",
              "       2.        , 1.        , 2.        , 1.875     , 1.01639344,\n",
              "       1.94642857, 2.        , 1.01639344, 1.01639344, 1.09090909,\n",
              "       1.875     , 1.94642857, 1.01639344, 1.09090909, 1.        ,\n",
              "       1.        , 1.01639344, 1.01639344, 2.        , 1.94642857,\n",
              "       1.        , 1.01639344, 1.01639344, 1.01639344, 2.        ,\n",
              "       1.01639344, 1.        , 2.        , 2.        , 1.        ,\n",
              "       1.94642857, 1.875     , 1.94642857, 2.        , 1.94642857,\n",
              "       1.01639344, 1.94642857, 1.01639344, 1.94642857, 1.09090909,\n",
              "       1.        , 1.09090909, 1.94642857, 1.09090909, 1.94642857,\n",
              "       1.94642857, 1.01639344, 2.        , 1.01639344, 1.94642857,\n",
              "       1.94642857, 1.94642857, 1.        ])"
            ]
          },
          "metadata": {},
          "execution_count": 28
        }
      ]
    },
    {
      "cell_type": "code",
      "source": [
        "df_heart_test"
      ],
      "metadata": {
        "colab": {
          "base_uri": "https://localhost:8080/"
        },
        "id": "t8EcKgXglc5I",
        "outputId": "302ce076-f647-40f0-f373-b2a234b012d1"
      },
      "execution_count": 31,
      "outputs": [
        {
          "output_type": "execute_result",
          "data": {
            "text/plain": [
              "12     1\n",
              "221    2\n",
              "51     1\n",
              "147    2\n",
              "145    2\n",
              "      ..\n",
              "262    2\n",
              "122    2\n",
              "189    2\n",
              "33     2\n",
              "108    2\n",
              "Name: heart disease, Length: 68, dtype: int64"
            ]
          },
          "metadata": {},
          "execution_count": 31
        }
      ]
    },
    {
      "cell_type": "code",
      "source": [
        "import matplotlib.pyplot as plt\n",
        "\n",
        "df= [i for i in range(df_heart_test.shape[0])]\n",
        "result= [2 if i>1.5 else 1 for i in result]\n",
        "plt.scatter(df, result, alpha=0.4, label='Predictions')\n",
        "plt.scatter(df, df_heart_test, label='True Values')\n",
        "plt.legend()"
      ],
      "metadata": {
        "colab": {
          "base_uri": "https://localhost:8080/",
          "height": 448
        },
        "id": "kmxipM5OleK3",
        "outputId": "968e8adf-d870-45ca-9d23-84b02232975f"
      },
      "execution_count": 32,
      "outputs": [
        {
          "output_type": "execute_result",
          "data": {
            "text/plain": [
              "<matplotlib.legend.Legend at 0x7f904542b880>"
            ]
          },
          "metadata": {},
          "execution_count": 32
        },
        {
          "output_type": "display_data",
          "data": {
            "text/plain": [
              "<Figure size 640x480 with 1 Axes>"
            ],
            "image/png": "[encoded data removed]"
          },
          "metadata": {}
        }
      ]
    },
    {
      "cell_type": "code",
      "source": [
        "correct_results= [] #[1 if i==j else 0 for i in result for j in df_heart_test]\n",
        "for i,j in zip(result, df_heart_test):\n",
        "    if i==j:\n",
        "        correct_results.append(1)\n",
        "    else:\n",
        "        correct_results.append(0)\n",
        "plt.hist(correct_results)"
      ],
      "metadata": {
        "colab": {
          "base_uri": "https://localhost:8080/",
          "height": 485
        },
        "id": "gzva6wu5lfYB",
        "outputId": "97e5a6b7-9516-4cab-8684-cd26cc718370"
      },
      "execution_count": 38,
      "outputs": [
        {
          "output_type": "execute_result",
          "data": {
            "text/plain": [
              "(array([16.,  0.,  0.,  0.,  0.,  0.,  0.,  0.,  0., 52.]),\n",
              " array([0. , 0.1, 0.2, 0.3, 0.4, 0.5, 0.6, 0.7, 0.8, 0.9, 1. ]),\n",
              " <BarContainer object of 10 artists>)"
            ]
          },
          "metadata": {},
          "execution_count": 38
        },
        {
          "output_type": "display_data",
          "data": {
            "text/plain": [
              "<Figure size 640x480 with 1 Axes>"
            ],
            "image/png": "[encoded data removed]"
          },
          "metadata": {}
        }
      ]
    },
    {
      "cell_type": "markdown",
      "source": [
        "So best model is the third model because"
      ],
      "metadata": {
        "id": "uZF74HmrluDG"
      }
    },
    {
      "cell_type": "code",
      "source": [
        "correct_results"
      ],
      "metadata": {
        "colab": {
          "base_uri": "https://localhost:8080/"
        },
        "id": "3F8qXSd2loF6",
        "outputId": "7e2bf21d-cff3-4cd6-d96e-ccc2024c2f53"
      },
      "execution_count": 35,
      "outputs": [
        {
          "output_type": "execute_result",
          "data": {
            "text/plain": [
              "[1,\n",
              " 1,\n",
              " 1,\n",
              " 1,\n",
              " 1,\n",
              " 0,\n",
              " 0,\n",
              " 0,\n",
              " 1,\n",
              " 1,\n",
              " 1,\n",
              " 1,\n",
              " 1,\n",
              " 1,\n",
              " 1,\n",
              " 1,\n",
              " 1,\n",
              " 1,\n",
              " 1,\n",
              " 1,\n",
              " 1,\n",
              " 0,\n",
              " 1,\n",
              " 1,\n",
              " 1,\n",
              " 1,\n",
              " 0,\n",
              " 1,\n",
              " 1,\n",
              " 1,\n",
              " 0,\n",
              " 1,\n",
              " 1,\n",
              " 1,\n",
              " 0,\n",
              " 1,\n",
              " 1,\n",
              " 1,\n",
              " 1,\n",
              " 1,\n",
              " 1,\n",
              " 1,\n",
              " 1,\n",
              " 0,\n",
              " 1,\n",
              " 0,\n",
              " 0,\n",
              " 1,\n",
              " 1,\n",
              " 1,\n",
              " 1,\n",
              " 1,\n",
              " 1,\n",
              " 1,\n",
              " 1,\n",
              " 1,\n",
              " 0,\n",
              " 0,\n",
              " 1,\n",
              " 1,\n",
              " 1,\n",
              " 0,\n",
              " 0,\n",
              " 0,\n",
              " 1,\n",
              " 1,\n",
              " 1,\n",
              " 0]"
            ]
          },
          "metadata": {},
          "execution_count": 35
        }
      ]
    },
    {
      "cell_type": "code",
      "source": [],
      "metadata": {
        "id": "zLT18iI8pNKT"
      },
      "execution_count": null,
      "outputs": []
    }
  ]
}