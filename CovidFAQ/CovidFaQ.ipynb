{
 "cells": [
  {
   "cell_type": "code",
   "execution_count": 1,
   "id": "2ecc3216",
   "metadata": {},
   "outputs": [],
   "source": [
    "import tensorflow as tf\n",
    "from transformers import BertTokenizer\n",
    "from transformers import TFBertForQuestionAnswering\n",
    "from transformers import TFTrainer, TFTrainingArguments\n",
    "import numpy as np\n",
    "import pandas as pd\n",
    "from sklearn.decomposition import TruncatedSVD\n",
    "from sklearn.metrics.pairwise import cosine_similarity\n",
    "import spacy ### Advanced Natural Language processing libray"
   ]
  },
  {
   "cell_type": "code",
   "execution_count": 2,
   "id": "580efe5f",
   "metadata": {},
   "outputs": [],
   "source": [
    "data= pd.read_csv('COVID19_FAQ.csv')"
   ]
  },
  {
   "cell_type": "code",
   "execution_count": 3,
   "id": "55f42a46",
   "metadata": {},
   "outputs": [],
   "source": [
    "nlp = spacy.load('en_core_web_sm')"
   ]
  },
  {
   "cell_type": "code",
   "execution_count": 4,
   "id": "2f3906ac",
   "metadata": {},
   "outputs": [
    {
     "data": {
      "text/html": [
       "<div>\n",
       "<style scoped>\n",
       "    .dataframe tbody tr th:only-of-type {\n",
       "        vertical-align: middle;\n",
       "    }\n",
       "\n",
       "    .dataframe tbody tr th {\n",
       "        vertical-align: top;\n",
       "    }\n",
       "\n",
       "    .dataframe thead th {\n",
       "        text-align: right;\n",
       "    }\n",
       "</style>\n",
       "<table border=\"1\" class=\"dataframe\">\n",
       "  <thead>\n",
       "    <tr style=\"text-align: right;\">\n",
       "      <th></th>\n",
       "      <th>questions</th>\n",
       "      <th>answers</th>\n",
       "    </tr>\n",
       "  </thead>\n",
       "  <tbody>\n",
       "    <tr>\n",
       "      <th>0</th>\n",
       "      <td>1. How does COVID-19 spread?</td>\n",
       "      <td>People can catch COVID-19 from others who have...</td>\n",
       "    </tr>\n",
       "    <tr>\n",
       "      <th>1</th>\n",
       "      <td>2. What are the symptoms of COVID-19?</td>\n",
       "      <td>The most common symptoms of COVID-19 are fever...</td>\n",
       "    </tr>\n",
       "    <tr>\n",
       "      <th>2</th>\n",
       "      <td>3. How do I know if it is COVID-19 or just the...</td>\n",
       "      <td>A COVID-19 infection has the same signs and sy...</td>\n",
       "    </tr>\n",
       "    <tr>\n",
       "      <th>3</th>\n",
       "      <td>4. Can the virus that causes COVID-19 be trans...</td>\n",
       "      <td>Studies to date suggest that the virus that ca...</td>\n",
       "    </tr>\n",
       "    <tr>\n",
       "      <th>4</th>\n",
       "      <td>5. What can I do to protect myself and prevent...</td>\n",
       "      <td>Protection measures for everyone   Stay aware ...</td>\n",
       "    </tr>\n",
       "    <tr>\n",
       "      <th>...</th>\n",
       "      <td>...</td>\n",
       "      <td>...</td>\n",
       "    </tr>\n",
       "    <tr>\n",
       "      <th>62</th>\n",
       "      <td>63. Is the virus that causes COVID-19 found in...</td>\n",
       "      <td>The virus that causes COVID-19 has been found ...</td>\n",
       "    </tr>\n",
       "    <tr>\n",
       "      <th>63</th>\n",
       "      <td>64. Can the COVID-19 virus spread through sewe...</td>\n",
       "      <td>Recently, ribonucleic acid (RNA) from the viru...</td>\n",
       "    </tr>\n",
       "    <tr>\n",
       "      <th>64</th>\n",
       "      <td>65. Should wastewater workers take extra preca...</td>\n",
       "      <td>Recently, ribonucleic acid (RNA) from the viru...</td>\n",
       "    </tr>\n",
       "    <tr>\n",
       "      <th>65</th>\n",
       "      <td>66. If my utility has issued a Boil Water Advi...</td>\n",
       "      <td>In most cases, it is safe to wash your hands w...</td>\n",
       "    </tr>\n",
       "    <tr>\n",
       "      <th>66</th>\n",
       "      <td>67. Can the virus that causes COVID-19 spread ...</td>\n",
       "      <td>CDC is not aware of any scientific reports of ...</td>\n",
       "    </tr>\n",
       "  </tbody>\n",
       "</table>\n",
       "<p>67 rows × 2 columns</p>\n",
       "</div>"
      ],
      "text/plain": [
       "                                            questions  \\\n",
       "0                        1. How does COVID-19 spread?   \n",
       "1               2. What are the symptoms of COVID-19?   \n",
       "2   3. How do I know if it is COVID-19 or just the...   \n",
       "3   4. Can the virus that causes COVID-19 be trans...   \n",
       "4   5. What can I do to protect myself and prevent...   \n",
       "..                                                ...   \n",
       "62  63. Is the virus that causes COVID-19 found in...   \n",
       "63  64. Can the COVID-19 virus spread through sewe...   \n",
       "64  65. Should wastewater workers take extra preca...   \n",
       "65  66. If my utility has issued a Boil Water Advi...   \n",
       "66  67. Can the virus that causes COVID-19 spread ...   \n",
       "\n",
       "                                              answers  \n",
       "0   People can catch COVID-19 from others who have...  \n",
       "1   The most common symptoms of COVID-19 are fever...  \n",
       "2   A COVID-19 infection has the same signs and sy...  \n",
       "3   Studies to date suggest that the virus that ca...  \n",
       "4   Protection measures for everyone   Stay aware ...  \n",
       "..                                                ...  \n",
       "62  The virus that causes COVID-19 has been found ...  \n",
       "63  Recently, ribonucleic acid (RNA) from the viru...  \n",
       "64  Recently, ribonucleic acid (RNA) from the viru...  \n",
       "65  In most cases, it is safe to wash your hands w...  \n",
       "66  CDC is not aware of any scientific reports of ...  \n",
       "\n",
       "[67 rows x 2 columns]"
      ]
     },
     "execution_count": 4,
     "metadata": {},
     "output_type": "execute_result"
    }
   ],
   "source": [
    "data.head(67)"
   ]
  },
  {
   "cell_type": "code",
   "execution_count": 5,
   "id": "4d8a43a6",
   "metadata": {},
   "outputs": [],
   "source": [
    "#Seperating sentences to words.\n",
    "question_vectors=[nlp(x).vector for x in data['questions'].values]"
   ]
  },
  {
   "cell_type": "code",
   "execution_count": 6,
   "id": "2a56ba40",
   "metadata": {},
   "outputs": [],
   "source": [
    "#Vectorization of words and finding similarity matrix of words using cosine similarity.\n",
    "svd=TruncatedSVD(n_components=3)\n",
    "svd_questions=svd.fit_transform(question_vectors)\n",
    "cos_sim=cosine_similarity(svd_questions,svd_questions)"
   ]
  },
  {
   "cell_type": "code",
   "execution_count": 7,
   "id": "8ea01090",
   "metadata": {},
   "outputs": [
    {
     "name": "stdout",
     "output_type": "stream",
     "text": [
      "Please enter your question: Who is at risk of developing severe illness?\n"
     ]
    }
   ],
   "source": [
    "question=input(\"Please enter your question: \")\n",
    "my_question_vector=np.stack([nlp(question).vector])\n",
    "question_vectors=np.append(question_vectors,my_question_vector,axis=0)\n",
    "svd_questions=svd.fit_transform(question_vectors)\n",
    "cos_sim=cosine_similarity(svd_questions,svd_questions)"
   ]
  },
  {
   "cell_type": "code",
   "execution_count": 42,
   "id": "0cc5749e",
   "metadata": {},
   "outputs": [
    {
     "name": "stdout",
     "output_type": "stream",
     "text": [
      "26    0.985989\n",
      "36    0.949385\n",
      "32    0.947294\n",
      "16    0.932685\n",
      "42    0.928987\n",
      "11    0.927834\n",
      "33    0.925321\n",
      "57    0.925160\n",
      "44    0.918503\n",
      "Name: 67, dtype: float32\n",
      "Enter the sentence number that is smaller than 1.0: 0\n",
      "People can catch COVID-19 from others who have the virus. The disease can spread from person   to person through small droplets from the nose or mouth which are spread when a person with   COVID-19 coughs or exhales. These droplets land on objects and surfaces around the person.   Other people then catch COVID-19 by touching these objects or surfaces, then touching their   eyes, nose or mouth. People can also catch COVID-19 if they breathe in droplets from a person   with COVID-19 who coughs out or exhales droplets. This is why it is important to stay more than   1 meter (3 feet) away from a person who is sick.\n"
     ]
    }
   ],
   "source": [
    "print(pd.DataFrame(cos_sim)[67].sort_values(ascending=False)[1:10])\n",
    "number=int(input(\"Enter the sentence number that is smaller than 1.0: \"))\n",
    "answer=data['answers'][number]\n",
    "print(answer)"
   ]
  },
  {
   "cell_type": "code",
   "execution_count": 43,
   "id": "7d714c2a",
   "metadata": {},
   "outputs": [],
   "source": [
    "tokenizer= BertTokenizer.from_pretrained(\"bert-large-uncased-whole-word-masking-finetuned-squad\")"
   ]
  },
  {
   "cell_type": "code",
   "execution_count": 44,
   "id": "c53acbf1",
   "metadata": {},
   "outputs": [],
   "source": [
    "input_dict=(tokenizer((question,answer),return_tensors='tf',padding=True,truncation=True))"
   ]
  },
  {
   "cell_type": "code",
   "execution_count": 45,
   "id": "ca358866",
   "metadata": {},
   "outputs": [
    {
     "name": "stderr",
     "output_type": "stream",
     "text": [
      "All model checkpoint layers were used when initializing TFBertForQuestionAnswering.\n",
      "\n",
      "All the layers of TFBertForQuestionAnswering were initialized from the model checkpoint at bert-large-uncased-whole-word-masking-finetuned-squad.\n",
      "If your task is similar to the task the model of the checkpoint was trained on, you can already use TFBertForQuestionAnswering for predictions without further training.\n"
     ]
    }
   ],
   "source": [
    "#bert-large-uncased-whole-word-masking-finetuned-squad: 1.25GB\n",
    "model=TFBertForQuestionAnswering.from_pretrained(\"bert-large-uncased-whole-word-masking-finetuned-squad\")\n",
    "outputs=model(input_dict)"
   ]
  },
  {
   "cell_type": "code",
   "execution_count": 49,
   "id": "5c10b1bf",
   "metadata": {},
   "outputs": [],
   "source": [
    "start_logits=outputs.start_logits\n",
    "end_logits=outputs.end_logits"
   ]
  },
  {
   "cell_type": "code",
   "execution_count": 50,
   "id": "e94ead4e",
   "metadata": {},
   "outputs": [],
   "source": [
    "all_tokens=tokenizer.convert_ids_to_tokens(input_dict[\"input_ids\"].numpy()[1])\n",
    "answer=' '.join(all_tokens[tf.math.argmax(start_logits,1)[1]:tf.math.argmax(end_logits,1)[1]+1])"
   ]
  },
  {
   "cell_type": "code",
   "execution_count": 73,
   "id": "d2f84c67",
   "metadata": {},
   "outputs": [
    {
     "name": "stdout",
     "output_type": "stream",
     "text": [
      "other people then catch covid - 19 by touching these objects or surfaces , then touching their eyes , nose or mouth . people can also catch covid - 19 if they breathe in droplets from a person with covid - 19 who coughs out or exhales droplets\n"
     ]
    }
   ],
   "source": [
    "#BERT use wordpiece tokenization, rare words get broken down into subwords.\n",
    "#Wordpiece tokenization uses ## to delimit tokens that have been split.\n",
    "answer= answer.replace(\" ##\",\"\")\n",
    "print(answer)"
   ]
  }
 ],
 "metadata": {
  "kernelspec": {
   "display_name": "Python 3 (ipykernel)",
   "language": "python",
   "name": "python3"
  },
  "language_info": {
   "codemirror_mode": {
    "name": "ipython",
    "version": 3
   },
   "file_extension": ".py",
   "mimetype": "text/x-python",
   "name": "python",
   "nbconvert_exporter": "python",
   "pygments_lexer": "ipython3",
   "version": "3.9.13"
  }
 },
 "nbformat": 4,
 "nbformat_minor": 5
}
