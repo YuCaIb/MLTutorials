{
 "cells": [
  {
   "cell_type": "code",
   "execution_count": 1,
   "id": "2ecc3216",
   "metadata": {},
   "outputs": [],
   "source": [
    "import tensorflow as tf\n",
    "from transformers import BertTokenizer\n",
    "from transformers import TFBertForQuestionAnswering\n",
    "from transformers import TFTrainer, TFTrainingArguments\n",
    "import numpy as np\n",
    "import pandas as pd\n",
    "from sklearn.decomposition import TruncatedSVD\n",
    "from sklearn.metrics.pairwise import cosine_similarity\n",
    "import spacy ### Advanced Natural Language processing libray"
   ]
  },
  {
   "cell_type": "code",
   "execution_count": null,
   "id": "580efe5f",
   "metadata": {},
   "outputs": [],
   "source": [
    "data= pd.read_csv('COVID19_FAQ.csv')"
   ]
  },
  {
   "cell_type": "code",
   "execution_count": null,
   "id": "55f42a46",
   "metadata": {},
   "outputs": [],
   "source": [
    "nlp = spacy.load('en_core_web_sm')"
   ]
  },
  {
   "cell_type": "code",
   "execution_count": null,
   "id": "2f3906ac",
   "metadata": {},
   "outputs": [],
   "source": [
    "data.head(67)"
   ]
  },
  {
   "cell_type": "code",
   "execution_count": null,
   "id": "4d8a43a6",
   "metadata": {},
   "outputs": [],
   "source": [
    "#Seperating sentences to words.\n",
    "question_vectors=[nlp(x).vector for x in data['questions'].values]"
   ]
  },
  {
   "cell_type": "code",
   "execution_count": null,
   "id": "2a56ba40",
   "metadata": {},
   "outputs": [],
   "source": [
    "#Vectorization of words and finding similarity matrix of words using cosine similarity.\n",
    "svd=TruncatedSVD(n_components=3)\n",
    "svd_questions=svd.fit_transform(question_vectors)\n",
    "cos_sim=cosine_similarity(svd_questions,svd_questions)"
   ]
  },
  {
   "cell_type": "code",
   "execution_count": null,
   "id": "8ea01090",
   "metadata": {},
   "outputs": [],
   "source": [
    "question=input(\"Please enter your question: \")\n",
    "my_question_vector=np.stack([nlp(question).vector])\n",
    "question_vectors=np.append(question_vectors,my_question_vector,axis=0)\n",
    "svd_questions=svd.fit_transform(question_vectors)\n",
    "cos_sim=cosine_similarity(svd_questions,svd_questions)"
   ]
  },
  {
   "cell_type": "code",
   "execution_count": null,
   "id": "0cc5749e",
   "metadata": {},
   "outputs": [],
   "source": [
    "print(pd.DataFrame(cos_sim)[67].sort_values(ascending=False)[1:10])\n",
    "number=int(input(\"Enter the sentence number that is smaller than 1.0: \"))\n",
    "answer=data['answers'][number]\n",
    "print(answer)"
   ]
  }
 ],
 "metadata": {
  "kernelspec": {
   "display_name": "Python 3 (ipykernel)",
   "language": "python",
   "name": "python3"
  },
  "language_info": {
   "codemirror_mode": {
    "name": "ipython",
    "version": 3
   },
   "file_extension": ".py",
   "mimetype": "text/x-python",
   "name": "python",
   "nbconvert_exporter": "python",
   "pygments_lexer": "ipython3",
   "version": "3.9.13"
  }
 },
 "nbformat": 4,
 "nbformat_minor": 5
}
